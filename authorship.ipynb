{
 "cells": [
  {
   "cell_type": "markdown",
   "id": "24ba1aaf",
   "metadata": {},
   "source": [
    "# Authorship Attribution\n",
    "\n",
    "We have etracted 1796 slip opinions by SCOTUS, each labeled with their \n",
    "author, the opinion type (concurrence vs. dissent vs. statement, etc.),\n",
    "the date, case number, and text."
   ]
  },
  {
   "cell_type": "code",
   "execution_count": 41,
   "id": "3c677ee5",
   "metadata": {},
   "outputs": [],
   "source": [
    "import pickle\n",
    "import pandas as pd\n",
    "import numpy as np\n",
    "import spacy\n",
    "import re\n",
    "import matplotlib.pyplot as plt\n",
    "import seaborn as sns\n",
    "\n",
    "with open('./data/all_slip_opinions.pkl', 'rb') as f:\n",
    "    data = pickle.load(f)\n",
    "\n"
   ]
  },
  {
   "cell_type": "markdown",
   "id": "cda9200a",
   "metadata": {},
   "source": [
    "### Prepare the data"
   ]
  },
  {
   "cell_type": "code",
   "execution_count": 42,
   "id": "494dad9d",
   "metadata": {},
   "outputs": [],
   "source": [
    "author_col, case_col, text_col, date_col, release_type_col, opinion_type_col = [], [], [], [], [], []\n",
    "\n",
    "for term, releases in data.items():\n",
    "    for release in releases:\n",
    "        for opinion in release.opinions:\n",
    "            author_col.append(opinion.author.name)\n",
    "            case_col.append(release.case_number)\n",
    "            text_col.append(opinion.text)\n",
    "            date_col.append(release.date)\n",
    "            release_type_col.append(release.document_type)\n",
    "            opinion_type_col.append(opinion.type.name)\n",
    "            "
   ]
  },
  {
   "cell_type": "code",
   "execution_count": 43,
   "id": "9de1de2c",
   "metadata": {},
   "outputs": [],
   "source": [
    "from omg_scotus.justice import Justice, create_court\n",
    "def get_ideology(name:str):\n",
    "    court = create_court(current=False)\n",
    "    for j in court:\n",
    "        if j.last_name.upper() == name:\n",
    "            return j.ideology.name\n",
    "    return np.nan\n",
    "    "
   ]
  },
  {
   "cell_type": "code",
   "execution_count": 44,
   "id": "c2c00308",
   "metadata": {},
   "outputs": [
    {
     "name": "stderr",
     "output_type": "stream",
     "text": [
      "/tmp/ipykernel_31611/2252688841.py:8: FutureWarning: Dropping of nuisance columns in DataFrame reductions (with 'numeric_only=None') is deprecated; in a future version this will raise TypeError.  Select only valid columns before calling the reduction.\n",
      "  df['uid'] = df[['case', 'date', 'opinion_type', 'label']].sum(axis=1).map(hash)\n"
     ]
    },
    {
     "data": {
      "text/html": [
       "<div>\n",
       "<style scoped>\n",
       "    .dataframe tbody tr th:only-of-type {\n",
       "        vertical-align: middle;\n",
       "    }\n",
       "\n",
       "    .dataframe tbody tr th {\n",
       "        vertical-align: top;\n",
       "    }\n",
       "\n",
       "    .dataframe thead th {\n",
       "        text-align: right;\n",
       "    }\n",
       "</style>\n",
       "<table border=\"1\" class=\"dataframe\">\n",
       "  <thead>\n",
       "    <tr style=\"text-align: right;\">\n",
       "      <th></th>\n",
       "      <th>text</th>\n",
       "      <th>case</th>\n",
       "      <th>date</th>\n",
       "      <th>opinion_type</th>\n",
       "      <th>release_type</th>\n",
       "      <th>label</th>\n",
       "      <th>term</th>\n",
       "      <th>ideology</th>\n",
       "      <th>uid</th>\n",
       "    </tr>\n",
       "  </thead>\n",
       "  <tbody>\n",
       "    <tr>\n",
       "      <th>0</th>\n",
       "      <td>SUPREME COURT OF THE UNITED STATES \\nNATALIE E...</td>\n",
       "      <td>No JSON case data. Case too old.</td>\n",
       "      <td>2012-09-25</td>\n",
       "      <td>PER_CURIAM</td>\n",
       "      <td>DocumentType.SLIP_OPINION</td>\n",
       "      <td>PER_CURIAM</td>\n",
       "      <td>2012</td>\n",
       "      <td>NaN</td>\n",
       "      <td>0</td>\n",
       "    </tr>\n",
       "    <tr>\n",
       "      <th>1</th>\n",
       "      <td>SUPREME COURT OF THE UNITED STATES \\n_________...</td>\n",
       "      <td>No JSON case data. Case too old.</td>\n",
       "      <td>2012-06-28</td>\n",
       "      <td>PER_CURIAM</td>\n",
       "      <td>DocumentType.SLIP_OPINION</td>\n",
       "      <td>PER_CURIAM</td>\n",
       "      <td>2012</td>\n",
       "      <td>NaN</td>\n",
       "      <td>0</td>\n",
       "    </tr>\n",
       "    <tr>\n",
       "      <th>2</th>\n",
       "      <td>SUPREME COURT OF THE UNITED STATES \\n_________...</td>\n",
       "      <td>No JSON case data. Case too old.</td>\n",
       "      <td>2012-06-28</td>\n",
       "      <td>PLURALITY</td>\n",
       "      <td>DocumentType.SLIP_OPINION</td>\n",
       "      <td>KENNEDY</td>\n",
       "      <td>2012</td>\n",
       "      <td>CONSERVATIVE</td>\n",
       "      <td>0</td>\n",
       "    </tr>\n",
       "    <tr>\n",
       "      <th>3</th>\n",
       "      <td>SUPREME COURT OF THE UNITED STATES \\n_________...</td>\n",
       "      <td>No JSON case data. Case too old.</td>\n",
       "      <td>2012-06-28</td>\n",
       "      <td>CONCURRENCE</td>\n",
       "      <td>DocumentType.SLIP_OPINION</td>\n",
       "      <td>BREYER</td>\n",
       "      <td>2012</td>\n",
       "      <td>LIBERAL</td>\n",
       "      <td>0</td>\n",
       "    </tr>\n",
       "    <tr>\n",
       "      <th>4</th>\n",
       "      <td>SUPREME COURT OF THE UNITED STATES \\n_________...</td>\n",
       "      <td>No JSON case data. Case too old.</td>\n",
       "      <td>2012-06-28</td>\n",
       "      <td>DISSENT</td>\n",
       "      <td>DocumentType.SLIP_OPINION</td>\n",
       "      <td>ALITO</td>\n",
       "      <td>2012</td>\n",
       "      <td>CONSERVATIVE</td>\n",
       "      <td>0</td>\n",
       "    </tr>\n",
       "  </tbody>\n",
       "</table>\n",
       "</div>"
      ],
      "text/plain": [
       "                                                text  \\\n",
       "0  SUPREME COURT OF THE UNITED STATES \\nNATALIE E...   \n",
       "1  SUPREME COURT OF THE UNITED STATES \\n_________...   \n",
       "2  SUPREME COURT OF THE UNITED STATES \\n_________...   \n",
       "3  SUPREME COURT OF THE UNITED STATES \\n_________...   \n",
       "4  SUPREME COURT OF THE UNITED STATES \\n_________...   \n",
       "\n",
       "                               case       date opinion_type  \\\n",
       "0  No JSON case data. Case too old. 2012-09-25   PER_CURIAM   \n",
       "1  No JSON case data. Case too old. 2012-06-28   PER_CURIAM   \n",
       "2  No JSON case data. Case too old. 2012-06-28    PLURALITY   \n",
       "3  No JSON case data. Case too old. 2012-06-28  CONCURRENCE   \n",
       "4  No JSON case data. Case too old. 2012-06-28      DISSENT   \n",
       "\n",
       "                release_type       label  term      ideology  uid  \n",
       "0  DocumentType.SLIP_OPINION  PER_CURIAM  2012           NaN    0  \n",
       "1  DocumentType.SLIP_OPINION  PER_CURIAM  2012           NaN    0  \n",
       "2  DocumentType.SLIP_OPINION     KENNEDY  2012  CONSERVATIVE    0  \n",
       "3  DocumentType.SLIP_OPINION      BREYER  2012       LIBERAL    0  \n",
       "4  DocumentType.SLIP_OPINION       ALITO  2012  CONSERVATIVE    0  "
      ]
     },
     "execution_count": 44,
     "metadata": {},
     "output_type": "execute_result"
    }
   ],
   "source": [
    "from uuid import UUID\n",
    "\n",
    "\n",
    "df = pd.DataFrame({'text': text_col, 'case': case_col, 'date': date_col, 'opinion_type': opinion_type_col, 'release_type': release_type_col, 'label': author_col})\n",
    "df['date'] = pd.to_datetime(df['date'])\n",
    "df['term'] = df['date'].dt.year\n",
    "df['ideology'] = df['label'].apply(get_ideology)\n",
    "df['uid'] = df[['case', 'date', 'opinion_type', 'label']].sum(axis=1).map(hash)\n",
    "df.head()"
   ]
  },
  {
   "cell_type": "code",
   "execution_count": 45,
   "id": "a29cbe1a",
   "metadata": {},
   "outputs": [
    {
     "data": {
      "text/plain": [
       "THOMAS        300\n",
       "ALITO         223\n",
       "SOTOMAYOR     211\n",
       "BREYER        187\n",
       "GINSBURG      144\n",
       "ROBERTS       131\n",
       "PER_CURIAM    122\n",
       "KAGAN         119\n",
       "SCALIA        102\n",
       "GORSUCH        97\n",
       "KENNEDY        82\n",
       "KAVANAUGH      58\n",
       "BARRETT        20\n",
       "Name: label, dtype: int64"
      ]
     },
     "execution_count": 45,
     "metadata": {},
     "output_type": "execute_result"
    }
   ],
   "source": [
    "df.label.value_counts()"
   ]
  },
  {
   "cell_type": "code",
   "execution_count": 138,
   "id": "1f9d897f",
   "metadata": {},
   "outputs": [
    {
     "data": {
      "text/html": [
       "<div>\n",
       "<style scoped>\n",
       "    .dataframe tbody tr th:only-of-type {\n",
       "        vertical-align: middle;\n",
       "    }\n",
       "\n",
       "    .dataframe tbody tr th {\n",
       "        vertical-align: top;\n",
       "    }\n",
       "\n",
       "    .dataframe thead th {\n",
       "        text-align: right;\n",
       "    }\n",
       "</style>\n",
       "<table border=\"1\" class=\"dataframe\">\n",
       "  <thead>\n",
       "    <tr style=\"text-align: right;\">\n",
       "      <th>term</th>\n",
       "      <th>2011</th>\n",
       "      <th>2012</th>\n",
       "      <th>2013</th>\n",
       "      <th>2014</th>\n",
       "      <th>2015</th>\n",
       "      <th>2016</th>\n",
       "      <th>2017</th>\n",
       "      <th>2018</th>\n",
       "      <th>2019</th>\n",
       "      <th>2020</th>\n",
       "      <th>2021</th>\n",
       "      <th>2022</th>\n",
       "      <th>All</th>\n",
       "    </tr>\n",
       "    <tr>\n",
       "      <th>label</th>\n",
       "      <th></th>\n",
       "      <th></th>\n",
       "      <th></th>\n",
       "      <th></th>\n",
       "      <th></th>\n",
       "      <th></th>\n",
       "      <th></th>\n",
       "      <th></th>\n",
       "      <th></th>\n",
       "      <th></th>\n",
       "      <th></th>\n",
       "      <th></th>\n",
       "      <th></th>\n",
       "    </tr>\n",
       "  </thead>\n",
       "  <tbody>\n",
       "    <tr>\n",
       "      <th>ALITO</th>\n",
       "      <td>0</td>\n",
       "      <td>18</td>\n",
       "      <td>25</td>\n",
       "      <td>19</td>\n",
       "      <td>30</td>\n",
       "      <td>20</td>\n",
       "      <td>17</td>\n",
       "      <td>15</td>\n",
       "      <td>20</td>\n",
       "      <td>27</td>\n",
       "      <td>16</td>\n",
       "      <td>16</td>\n",
       "      <td>223</td>\n",
       "    </tr>\n",
       "    <tr>\n",
       "      <th>BARRETT</th>\n",
       "      <td>0</td>\n",
       "      <td>0</td>\n",
       "      <td>0</td>\n",
       "      <td>0</td>\n",
       "      <td>0</td>\n",
       "      <td>0</td>\n",
       "      <td>0</td>\n",
       "      <td>0</td>\n",
       "      <td>0</td>\n",
       "      <td>0</td>\n",
       "      <td>8</td>\n",
       "      <td>12</td>\n",
       "      <td>20</td>\n",
       "    </tr>\n",
       "    <tr>\n",
       "      <th>BREYER</th>\n",
       "      <td>0</td>\n",
       "      <td>22</td>\n",
       "      <td>18</td>\n",
       "      <td>14</td>\n",
       "      <td>17</td>\n",
       "      <td>16</td>\n",
       "      <td>17</td>\n",
       "      <td>19</td>\n",
       "      <td>19</td>\n",
       "      <td>17</td>\n",
       "      <td>12</td>\n",
       "      <td>16</td>\n",
       "      <td>187</td>\n",
       "    </tr>\n",
       "    <tr>\n",
       "      <th>GINSBURG</th>\n",
       "      <td>1</td>\n",
       "      <td>20</td>\n",
       "      <td>18</td>\n",
       "      <td>15</td>\n",
       "      <td>13</td>\n",
       "      <td>17</td>\n",
       "      <td>18</td>\n",
       "      <td>14</td>\n",
       "      <td>15</td>\n",
       "      <td>13</td>\n",
       "      <td>0</td>\n",
       "      <td>0</td>\n",
       "      <td>144</td>\n",
       "    </tr>\n",
       "    <tr>\n",
       "      <th>GORSUCH</th>\n",
       "      <td>0</td>\n",
       "      <td>0</td>\n",
       "      <td>0</td>\n",
       "      <td>0</td>\n",
       "      <td>0</td>\n",
       "      <td>0</td>\n",
       "      <td>5</td>\n",
       "      <td>17</td>\n",
       "      <td>22</td>\n",
       "      <td>15</td>\n",
       "      <td>18</td>\n",
       "      <td>20</td>\n",
       "      <td>97</td>\n",
       "    </tr>\n",
       "    <tr>\n",
       "      <th>KAGAN</th>\n",
       "      <td>1</td>\n",
       "      <td>10</td>\n",
       "      <td>12</td>\n",
       "      <td>10</td>\n",
       "      <td>10</td>\n",
       "      <td>12</td>\n",
       "      <td>8</td>\n",
       "      <td>9</td>\n",
       "      <td>12</td>\n",
       "      <td>10</td>\n",
       "      <td>11</td>\n",
       "      <td>14</td>\n",
       "      <td>119</td>\n",
       "    </tr>\n",
       "    <tr>\n",
       "      <th>KAVANAUGH</th>\n",
       "      <td>0</td>\n",
       "      <td>0</td>\n",
       "      <td>0</td>\n",
       "      <td>0</td>\n",
       "      <td>0</td>\n",
       "      <td>0</td>\n",
       "      <td>0</td>\n",
       "      <td>0</td>\n",
       "      <td>14</td>\n",
       "      <td>16</td>\n",
       "      <td>13</td>\n",
       "      <td>15</td>\n",
       "      <td>58</td>\n",
       "    </tr>\n",
       "    <tr>\n",
       "      <th>KENNEDY</th>\n",
       "      <td>0</td>\n",
       "      <td>10</td>\n",
       "      <td>14</td>\n",
       "      <td>10</td>\n",
       "      <td>13</td>\n",
       "      <td>13</td>\n",
       "      <td>9</td>\n",
       "      <td>13</td>\n",
       "      <td>0</td>\n",
       "      <td>0</td>\n",
       "      <td>0</td>\n",
       "      <td>0</td>\n",
       "      <td>82</td>\n",
       "    </tr>\n",
       "    <tr>\n",
       "      <th>PER_CURIAM</th>\n",
       "      <td>4</td>\n",
       "      <td>12</td>\n",
       "      <td>8</td>\n",
       "      <td>9</td>\n",
       "      <td>8</td>\n",
       "      <td>17</td>\n",
       "      <td>11</td>\n",
       "      <td>14</td>\n",
       "      <td>8</td>\n",
       "      <td>14</td>\n",
       "      <td>12</td>\n",
       "      <td>5</td>\n",
       "      <td>122</td>\n",
       "    </tr>\n",
       "    <tr>\n",
       "      <th>ROBERTS</th>\n",
       "      <td>0</td>\n",
       "      <td>12</td>\n",
       "      <td>17</td>\n",
       "      <td>13</td>\n",
       "      <td>14</td>\n",
       "      <td>10</td>\n",
       "      <td>10</td>\n",
       "      <td>12</td>\n",
       "      <td>11</td>\n",
       "      <td>10</td>\n",
       "      <td>12</td>\n",
       "      <td>10</td>\n",
       "      <td>131</td>\n",
       "    </tr>\n",
       "    <tr>\n",
       "      <th>SCALIA</th>\n",
       "      <td>1</td>\n",
       "      <td>22</td>\n",
       "      <td>24</td>\n",
       "      <td>23</td>\n",
       "      <td>29</td>\n",
       "      <td>3</td>\n",
       "      <td>0</td>\n",
       "      <td>0</td>\n",
       "      <td>0</td>\n",
       "      <td>0</td>\n",
       "      <td>0</td>\n",
       "      <td>0</td>\n",
       "      <td>102</td>\n",
       "    </tr>\n",
       "    <tr>\n",
       "      <th>SOTOMAYOR</th>\n",
       "      <td>0</td>\n",
       "      <td>19</td>\n",
       "      <td>19</td>\n",
       "      <td>20</td>\n",
       "      <td>14</td>\n",
       "      <td>18</td>\n",
       "      <td>14</td>\n",
       "      <td>23</td>\n",
       "      <td>21</td>\n",
       "      <td>23</td>\n",
       "      <td>18</td>\n",
       "      <td>22</td>\n",
       "      <td>211</td>\n",
       "    </tr>\n",
       "    <tr>\n",
       "      <th>THOMAS</th>\n",
       "      <td>0</td>\n",
       "      <td>16</td>\n",
       "      <td>26</td>\n",
       "      <td>16</td>\n",
       "      <td>36</td>\n",
       "      <td>40</td>\n",
       "      <td>30</td>\n",
       "      <td>31</td>\n",
       "      <td>29</td>\n",
       "      <td>32</td>\n",
       "      <td>23</td>\n",
       "      <td>21</td>\n",
       "      <td>300</td>\n",
       "    </tr>\n",
       "    <tr>\n",
       "      <th>All</th>\n",
       "      <td>7</td>\n",
       "      <td>161</td>\n",
       "      <td>181</td>\n",
       "      <td>149</td>\n",
       "      <td>184</td>\n",
       "      <td>166</td>\n",
       "      <td>139</td>\n",
       "      <td>167</td>\n",
       "      <td>171</td>\n",
       "      <td>177</td>\n",
       "      <td>143</td>\n",
       "      <td>151</td>\n",
       "      <td>1796</td>\n",
       "    </tr>\n",
       "  </tbody>\n",
       "</table>\n",
       "</div>"
      ],
      "text/plain": [
       "term        2011  2012  2013  2014  2015  2016  2017  2018  2019  2020  2021  \\\n",
       "label                                                                          \n",
       "ALITO          0    18    25    19    30    20    17    15    20    27    16   \n",
       "BARRETT        0     0     0     0     0     0     0     0     0     0     8   \n",
       "BREYER         0    22    18    14    17    16    17    19    19    17    12   \n",
       "GINSBURG       1    20    18    15    13    17    18    14    15    13     0   \n",
       "GORSUCH        0     0     0     0     0     0     5    17    22    15    18   \n",
       "KAGAN          1    10    12    10    10    12     8     9    12    10    11   \n",
       "KAVANAUGH      0     0     0     0     0     0     0     0    14    16    13   \n",
       "KENNEDY        0    10    14    10    13    13     9    13     0     0     0   \n",
       "PER_CURIAM     4    12     8     9     8    17    11    14     8    14    12   \n",
       "ROBERTS        0    12    17    13    14    10    10    12    11    10    12   \n",
       "SCALIA         1    22    24    23    29     3     0     0     0     0     0   \n",
       "SOTOMAYOR      0    19    19    20    14    18    14    23    21    23    18   \n",
       "THOMAS         0    16    26    16    36    40    30    31    29    32    23   \n",
       "All            7   161   181   149   184   166   139   167   171   177   143   \n",
       "\n",
       "term        2022   All  \n",
       "label                   \n",
       "ALITO         16   223  \n",
       "BARRETT       12    20  \n",
       "BREYER        16   187  \n",
       "GINSBURG       0   144  \n",
       "GORSUCH       20    97  \n",
       "KAGAN         14   119  \n",
       "KAVANAUGH     15    58  \n",
       "KENNEDY        0    82  \n",
       "PER_CURIAM     5   122  \n",
       "ROBERTS       10   131  \n",
       "SCALIA         0   102  \n",
       "SOTOMAYOR     22   211  \n",
       "THOMAS        21   300  \n",
       "All          151  1796  "
      ]
     },
     "execution_count": 138,
     "metadata": {},
     "output_type": "execute_result"
    }
   ],
   "source": [
    "term_counts_by_author = df.pivot_table(index='label', columns='term', values='uid', aggfunc='count', fill_value=0, margins=True)\n",
    "term_counts_by_author"
   ]
  },
  {
   "cell_type": "markdown",
   "id": "d6ba1535",
   "metadata": {},
   "source": [
    "# NAIVE AF - Authorship"
   ]
  },
  {
   "cell_type": "code",
   "execution_count": 46,
   "id": "e3f7b5ba",
   "metadata": {},
   "outputs": [],
   "source": [
    "from omg_scotus.justice import JusticeTag\n",
    "from omg_scotus.helpers import remove_hyphenation\n",
    "def remove_justice_names_from_str(s: str):\n",
    "    s = re.sub(r'|'.join([j.name for j in JusticeTag] + ['PER CURIAM']), repl='', string=s)\n",
    "    return s"
   ]
  },
  {
   "cell_type": "code",
   "execution_count": 54,
   "id": "6c9e1b4a",
   "metadata": {},
   "outputs": [],
   "source": [
    "# Remove hyphenation from text\n",
    "df['text'] = df['text'].apply(remove_hyphenation)\n",
    "\n",
    "# Remove justice names from text (don't want the algorithm to know)\n",
    "df['text'] = df['text'].apply(remove_justice_names_from_str)\n"
   ]
  },
  {
   "cell_type": "code",
   "execution_count": 48,
   "id": "f3db0d22",
   "metadata": {},
   "outputs": [],
   "source": [
    "from sklearn.ensemble import RandomForestClassifier\n",
    "from sklearn.linear_model import LogisticRegression\n",
    "from sklearn.feature_extraction.text import TfidfVectorizer\n",
    "from sklearn.metrics import classification_report, accuracy_score\n",
    "from sklearn.model_selection import train_test_split\n",
    "from sklearn.pipeline import Pipeline"
   ]
  },
  {
   "cell_type": "code",
   "execution_count": 49,
   "id": "730c1942",
   "metadata": {},
   "outputs": [],
   "source": [
    "pipe = Pipeline([('tfidf', TfidfVectorizer()), ('clf', RandomForestClassifier())])"
   ]
  },
  {
   "cell_type": "code",
   "execution_count": 55,
   "id": "e850200d",
   "metadata": {},
   "outputs": [
    {
     "data": {
      "text/plain": [
       "((1171,), (503,))"
      ]
     },
     "execution_count": 55,
     "metadata": {},
     "output_type": "execute_result"
    }
   ],
   "source": [
    "X = df[df['label'].ne('PER_CURIAM')]['text']\n",
    "y = df[df['label'].ne('PER_CURIAM')]['label']\n",
    "\n",
    "X_train, X_test, y_train, y_test = train_test_split(X, y, test_size=0.3, random_state=42)\n",
    "X_train.shape, X_test.shape"
   ]
  },
  {
   "cell_type": "code",
   "execution_count": 56,
   "id": "815638f4",
   "metadata": {},
   "outputs": [
    {
     "data": {
      "text/html": [
       "<style>#sk-container-id-4 {color: black;background-color: white;}#sk-container-id-4 pre{padding: 0;}#sk-container-id-4 div.sk-toggleable {background-color: white;}#sk-container-id-4 label.sk-toggleable__label {cursor: pointer;display: block;width: 100%;margin-bottom: 0;padding: 0.3em;box-sizing: border-box;text-align: center;}#sk-container-id-4 label.sk-toggleable__label-arrow:before {content: \"▸\";float: left;margin-right: 0.25em;color: #696969;}#sk-container-id-4 label.sk-toggleable__label-arrow:hover:before {color: black;}#sk-container-id-4 div.sk-estimator:hover label.sk-toggleable__label-arrow:before {color: black;}#sk-container-id-4 div.sk-toggleable__content {max-height: 0;max-width: 0;overflow: hidden;text-align: left;background-color: #f0f8ff;}#sk-container-id-4 div.sk-toggleable__content pre {margin: 0.2em;color: black;border-radius: 0.25em;background-color: #f0f8ff;}#sk-container-id-4 input.sk-toggleable__control:checked~div.sk-toggleable__content {max-height: 200px;max-width: 100%;overflow: auto;}#sk-container-id-4 input.sk-toggleable__control:checked~label.sk-toggleable__label-arrow:before {content: \"▾\";}#sk-container-id-4 div.sk-estimator input.sk-toggleable__control:checked~label.sk-toggleable__label {background-color: #d4ebff;}#sk-container-id-4 div.sk-label input.sk-toggleable__control:checked~label.sk-toggleable__label {background-color: #d4ebff;}#sk-container-id-4 input.sk-hidden--visually {border: 0;clip: rect(1px 1px 1px 1px);clip: rect(1px, 1px, 1px, 1px);height: 1px;margin: -1px;overflow: hidden;padding: 0;position: absolute;width: 1px;}#sk-container-id-4 div.sk-estimator {font-family: monospace;background-color: #f0f8ff;border: 1px dotted black;border-radius: 0.25em;box-sizing: border-box;margin-bottom: 0.5em;}#sk-container-id-4 div.sk-estimator:hover {background-color: #d4ebff;}#sk-container-id-4 div.sk-parallel-item::after {content: \"\";width: 100%;border-bottom: 1px solid gray;flex-grow: 1;}#sk-container-id-4 div.sk-label:hover label.sk-toggleable__label {background-color: #d4ebff;}#sk-container-id-4 div.sk-serial::before {content: \"\";position: absolute;border-left: 1px solid gray;box-sizing: border-box;top: 0;bottom: 0;left: 50%;z-index: 0;}#sk-container-id-4 div.sk-serial {display: flex;flex-direction: column;align-items: center;background-color: white;padding-right: 0.2em;padding-left: 0.2em;position: relative;}#sk-container-id-4 div.sk-item {position: relative;z-index: 1;}#sk-container-id-4 div.sk-parallel {display: flex;align-items: stretch;justify-content: center;background-color: white;position: relative;}#sk-container-id-4 div.sk-item::before, #sk-container-id-4 div.sk-parallel-item::before {content: \"\";position: absolute;border-left: 1px solid gray;box-sizing: border-box;top: 0;bottom: 0;left: 50%;z-index: -1;}#sk-container-id-4 div.sk-parallel-item {display: flex;flex-direction: column;z-index: 1;position: relative;background-color: white;}#sk-container-id-4 div.sk-parallel-item:first-child::after {align-self: flex-end;width: 50%;}#sk-container-id-4 div.sk-parallel-item:last-child::after {align-self: flex-start;width: 50%;}#sk-container-id-4 div.sk-parallel-item:only-child::after {width: 0;}#sk-container-id-4 div.sk-dashed-wrapped {border: 1px dashed gray;margin: 0 0.4em 0.5em 0.4em;box-sizing: border-box;padding-bottom: 0.4em;background-color: white;}#sk-container-id-4 div.sk-label label {font-family: monospace;font-weight: bold;display: inline-block;line-height: 1.2em;}#sk-container-id-4 div.sk-label-container {text-align: center;}#sk-container-id-4 div.sk-container {/* jupyter's `normalize.less` sets `[hidden] { display: none; }` but bootstrap.min.css set `[hidden] { display: none !important; }` so we also need the `!important` here to be able to override the default hidden behavior on the sphinx rendered scikit-learn.org. See: https://github.com/scikit-learn/scikit-learn/issues/21755 */display: inline-block !important;position: relative;}#sk-container-id-4 div.sk-text-repr-fallback {display: none;}</style><div id=\"sk-container-id-4\" class=\"sk-top-container\"><div class=\"sk-text-repr-fallback\"><pre>Pipeline(steps=[(&#x27;tfidf&#x27;, TfidfVectorizer()),\n",
       "                (&#x27;clf&#x27;, RandomForestClassifier())])</pre><b>In a Jupyter environment, please rerun this cell to show the HTML representation or trust the notebook. <br />On GitHub, the HTML representation is unable to render, please try loading this page with nbviewer.org.</b></div><div class=\"sk-container\" hidden><div class=\"sk-item sk-dashed-wrapped\"><div class=\"sk-label-container\"><div class=\"sk-label sk-toggleable\"><input class=\"sk-toggleable__control sk-hidden--visually\" id=\"sk-estimator-id-10\" type=\"checkbox\" ><label for=\"sk-estimator-id-10\" class=\"sk-toggleable__label sk-toggleable__label-arrow\">Pipeline</label><div class=\"sk-toggleable__content\"><pre>Pipeline(steps=[(&#x27;tfidf&#x27;, TfidfVectorizer()),\n",
       "                (&#x27;clf&#x27;, RandomForestClassifier())])</pre></div></div></div><div class=\"sk-serial\"><div class=\"sk-item\"><div class=\"sk-estimator sk-toggleable\"><input class=\"sk-toggleable__control sk-hidden--visually\" id=\"sk-estimator-id-11\" type=\"checkbox\" ><label for=\"sk-estimator-id-11\" class=\"sk-toggleable__label sk-toggleable__label-arrow\">TfidfVectorizer</label><div class=\"sk-toggleable__content\"><pre>TfidfVectorizer()</pre></div></div></div><div class=\"sk-item\"><div class=\"sk-estimator sk-toggleable\"><input class=\"sk-toggleable__control sk-hidden--visually\" id=\"sk-estimator-id-12\" type=\"checkbox\" ><label for=\"sk-estimator-id-12\" class=\"sk-toggleable__label sk-toggleable__label-arrow\">RandomForestClassifier</label><div class=\"sk-toggleable__content\"><pre>RandomForestClassifier()</pre></div></div></div></div></div></div></div>"
      ],
      "text/plain": [
       "Pipeline(steps=[('tfidf', TfidfVectorizer()),\n",
       "                ('clf', RandomForestClassifier())])"
      ]
     },
     "execution_count": 56,
     "metadata": {},
     "output_type": "execute_result"
    }
   ],
   "source": [
    "pipe.fit(X_train, y_train)"
   ]
  },
  {
   "cell_type": "code",
   "execution_count": 57,
   "id": "8a31f288",
   "metadata": {},
   "outputs": [],
   "source": [
    "y_pred = pipe.predict(X_test)"
   ]
  },
  {
   "cell_type": "code",
   "execution_count": 58,
   "id": "e910723a",
   "metadata": {},
   "outputs": [
    {
     "name": "stdout",
     "output_type": "stream",
     "text": [
      "              precision    recall  f1-score   support\n",
      "\n",
      "       ALITO       0.48      0.49      0.48        74\n",
      "     BARRETT       0.00      0.00      0.00        10\n",
      "      BREYER       0.72      0.73      0.72        52\n",
      "    GINSBURG       0.76      0.40      0.52        40\n",
      "     GORSUCH       1.00      0.76      0.87        34\n",
      "       KAGAN       0.93      0.57      0.70        46\n",
      "   KAVANAUGH       0.00      0.00      0.00        14\n",
      "     KENNEDY       0.00      0.00      0.00        23\n",
      "     ROBERTS       0.54      0.21      0.30        34\n",
      "      SCALIA       0.50      0.06      0.10        18\n",
      "   SOTOMAYOR       0.38      0.23      0.29        69\n",
      "      THOMAS       0.33      0.89      0.48        89\n",
      "\n",
      "    accuracy                           0.49       503\n",
      "   macro avg       0.47      0.36      0.37       503\n",
      "weighted avg       0.52      0.49      0.46       503\n",
      "\n"
     ]
    },
    {
     "name": "stderr",
     "output_type": "stream",
     "text": [
      "/home/ian/Developer/omg_scotus/venv/lib/python3.10/site-packages/sklearn/metrics/_classification.py:1334: UndefinedMetricWarning: Precision and F-score are ill-defined and being set to 0.0 in labels with no predicted samples. Use `zero_division` parameter to control this behavior.\n",
      "  _warn_prf(average, modifier, msg_start, len(result))\n",
      "/home/ian/Developer/omg_scotus/venv/lib/python3.10/site-packages/sklearn/metrics/_classification.py:1334: UndefinedMetricWarning: Precision and F-score are ill-defined and being set to 0.0 in labels with no predicted samples. Use `zero_division` parameter to control this behavior.\n",
      "  _warn_prf(average, modifier, msg_start, len(result))\n",
      "/home/ian/Developer/omg_scotus/venv/lib/python3.10/site-packages/sklearn/metrics/_classification.py:1334: UndefinedMetricWarning: Precision and F-score are ill-defined and being set to 0.0 in labels with no predicted samples. Use `zero_division` parameter to control this behavior.\n",
      "  _warn_prf(average, modifier, msg_start, len(result))\n"
     ]
    }
   ],
   "source": [
    "print(classification_report(y_pred=y_pred, y_true=y_test))"
   ]
  },
  {
   "cell_type": "markdown",
   "id": "77c0df26",
   "metadata": {},
   "source": [
    "# NAIVE AF - Ideology"
   ]
  },
  {
   "cell_type": "code",
   "execution_count": 33,
   "id": "3c00771b",
   "metadata": {},
   "outputs": [],
   "source": [
    "X = df[df['label'].ne('PER_CURIAM')]['text']\n",
    "y = df[df['label'].ne('PER_CURIAM')]['ideology']"
   ]
  },
  {
   "cell_type": "code",
   "execution_count": 34,
   "id": "d267f43f",
   "metadata": {},
   "outputs": [],
   "source": [
    "X_train, X_test, y_train, y_test = train_test_split(X, y, test_size=0.3, random_state=42)"
   ]
  },
  {
   "cell_type": "code",
   "execution_count": 35,
   "id": "0f0cc1dd",
   "metadata": {},
   "outputs": [
    {
     "data": {
      "text/html": [
       "<style>#sk-container-id-2 {color: black;background-color: white;}#sk-container-id-2 pre{padding: 0;}#sk-container-id-2 div.sk-toggleable {background-color: white;}#sk-container-id-2 label.sk-toggleable__label {cursor: pointer;display: block;width: 100%;margin-bottom: 0;padding: 0.3em;box-sizing: border-box;text-align: center;}#sk-container-id-2 label.sk-toggleable__label-arrow:before {content: \"▸\";float: left;margin-right: 0.25em;color: #696969;}#sk-container-id-2 label.sk-toggleable__label-arrow:hover:before {color: black;}#sk-container-id-2 div.sk-estimator:hover label.sk-toggleable__label-arrow:before {color: black;}#sk-container-id-2 div.sk-toggleable__content {max-height: 0;max-width: 0;overflow: hidden;text-align: left;background-color: #f0f8ff;}#sk-container-id-2 div.sk-toggleable__content pre {margin: 0.2em;color: black;border-radius: 0.25em;background-color: #f0f8ff;}#sk-container-id-2 input.sk-toggleable__control:checked~div.sk-toggleable__content {max-height: 200px;max-width: 100%;overflow: auto;}#sk-container-id-2 input.sk-toggleable__control:checked~label.sk-toggleable__label-arrow:before {content: \"▾\";}#sk-container-id-2 div.sk-estimator input.sk-toggleable__control:checked~label.sk-toggleable__label {background-color: #d4ebff;}#sk-container-id-2 div.sk-label input.sk-toggleable__control:checked~label.sk-toggleable__label {background-color: #d4ebff;}#sk-container-id-2 input.sk-hidden--visually {border: 0;clip: rect(1px 1px 1px 1px);clip: rect(1px, 1px, 1px, 1px);height: 1px;margin: -1px;overflow: hidden;padding: 0;position: absolute;width: 1px;}#sk-container-id-2 div.sk-estimator {font-family: monospace;background-color: #f0f8ff;border: 1px dotted black;border-radius: 0.25em;box-sizing: border-box;margin-bottom: 0.5em;}#sk-container-id-2 div.sk-estimator:hover {background-color: #d4ebff;}#sk-container-id-2 div.sk-parallel-item::after {content: \"\";width: 100%;border-bottom: 1px solid gray;flex-grow: 1;}#sk-container-id-2 div.sk-label:hover label.sk-toggleable__label {background-color: #d4ebff;}#sk-container-id-2 div.sk-serial::before {content: \"\";position: absolute;border-left: 1px solid gray;box-sizing: border-box;top: 0;bottom: 0;left: 50%;z-index: 0;}#sk-container-id-2 div.sk-serial {display: flex;flex-direction: column;align-items: center;background-color: white;padding-right: 0.2em;padding-left: 0.2em;position: relative;}#sk-container-id-2 div.sk-item {position: relative;z-index: 1;}#sk-container-id-2 div.sk-parallel {display: flex;align-items: stretch;justify-content: center;background-color: white;position: relative;}#sk-container-id-2 div.sk-item::before, #sk-container-id-2 div.sk-parallel-item::before {content: \"\";position: absolute;border-left: 1px solid gray;box-sizing: border-box;top: 0;bottom: 0;left: 50%;z-index: -1;}#sk-container-id-2 div.sk-parallel-item {display: flex;flex-direction: column;z-index: 1;position: relative;background-color: white;}#sk-container-id-2 div.sk-parallel-item:first-child::after {align-self: flex-end;width: 50%;}#sk-container-id-2 div.sk-parallel-item:last-child::after {align-self: flex-start;width: 50%;}#sk-container-id-2 div.sk-parallel-item:only-child::after {width: 0;}#sk-container-id-2 div.sk-dashed-wrapped {border: 1px dashed gray;margin: 0 0.4em 0.5em 0.4em;box-sizing: border-box;padding-bottom: 0.4em;background-color: white;}#sk-container-id-2 div.sk-label label {font-family: monospace;font-weight: bold;display: inline-block;line-height: 1.2em;}#sk-container-id-2 div.sk-label-container {text-align: center;}#sk-container-id-2 div.sk-container {/* jupyter's `normalize.less` sets `[hidden] { display: none; }` but bootstrap.min.css set `[hidden] { display: none !important; }` so we also need the `!important` here to be able to override the default hidden behavior on the sphinx rendered scikit-learn.org. See: https://github.com/scikit-learn/scikit-learn/issues/21755 */display: inline-block !important;position: relative;}#sk-container-id-2 div.sk-text-repr-fallback {display: none;}</style><div id=\"sk-container-id-2\" class=\"sk-top-container\"><div class=\"sk-text-repr-fallback\"><pre>Pipeline(steps=[(&#x27;tfidf&#x27;, TfidfVectorizer()),\n",
       "                (&#x27;clf&#x27;, RandomForestClassifier())])</pre><b>In a Jupyter environment, please rerun this cell to show the HTML representation or trust the notebook. <br />On GitHub, the HTML representation is unable to render, please try loading this page with nbviewer.org.</b></div><div class=\"sk-container\" hidden><div class=\"sk-item sk-dashed-wrapped\"><div class=\"sk-label-container\"><div class=\"sk-label sk-toggleable\"><input class=\"sk-toggleable__control sk-hidden--visually\" id=\"sk-estimator-id-4\" type=\"checkbox\" ><label for=\"sk-estimator-id-4\" class=\"sk-toggleable__label sk-toggleable__label-arrow\">Pipeline</label><div class=\"sk-toggleable__content\"><pre>Pipeline(steps=[(&#x27;tfidf&#x27;, TfidfVectorizer()),\n",
       "                (&#x27;clf&#x27;, RandomForestClassifier())])</pre></div></div></div><div class=\"sk-serial\"><div class=\"sk-item\"><div class=\"sk-estimator sk-toggleable\"><input class=\"sk-toggleable__control sk-hidden--visually\" id=\"sk-estimator-id-5\" type=\"checkbox\" ><label for=\"sk-estimator-id-5\" class=\"sk-toggleable__label sk-toggleable__label-arrow\">TfidfVectorizer</label><div class=\"sk-toggleable__content\"><pre>TfidfVectorizer()</pre></div></div></div><div class=\"sk-item\"><div class=\"sk-estimator sk-toggleable\"><input class=\"sk-toggleable__control sk-hidden--visually\" id=\"sk-estimator-id-6\" type=\"checkbox\" ><label for=\"sk-estimator-id-6\" class=\"sk-toggleable__label sk-toggleable__label-arrow\">RandomForestClassifier</label><div class=\"sk-toggleable__content\"><pre>RandomForestClassifier()</pre></div></div></div></div></div></div></div>"
      ],
      "text/plain": [
       "Pipeline(steps=[('tfidf', TfidfVectorizer()),\n",
       "                ('clf', RandomForestClassifier())])"
      ]
     },
     "execution_count": 35,
     "metadata": {},
     "output_type": "execute_result"
    }
   ],
   "source": [
    "pipe.fit(X_train, y_train)"
   ]
  },
  {
   "cell_type": "code",
   "execution_count": 36,
   "id": "4b486262",
   "metadata": {},
   "outputs": [],
   "source": [
    "y_pred = pipe.predict(X_test)"
   ]
  },
  {
   "cell_type": "code",
   "execution_count": 37,
   "id": "73ca5be5",
   "metadata": {},
   "outputs": [
    {
     "name": "stdout",
     "output_type": "stream",
     "text": [
      "              precision    recall  f1-score   support\n",
      "\n",
      "CONSERVATIVE       0.67      0.99      0.80       296\n",
      "     LIBERAL       0.94      0.31      0.47       207\n",
      "\n",
      "    accuracy                           0.71       503\n",
      "   macro avg       0.81      0.65      0.64       503\n",
      "weighted avg       0.78      0.71      0.66       503\n",
      "\n"
     ]
    }
   ],
   "source": [
    "print(classification_report(y_pred=y_pred, y_true=y_test))"
   ]
  },
  {
   "cell_type": "code",
   "execution_count": 39,
   "id": "af15b74f",
   "metadata": {},
   "outputs": [
    {
     "name": "stdout",
     "output_type": "stream",
     "text": [
      "              precision    recall  f1-score   support\n",
      "\n",
      "CONSERVATIVE       0.63      0.95      0.76       296\n",
      "     LIBERAL       0.75      0.21      0.33       207\n",
      "\n",
      "    accuracy                           0.65       503\n",
      "   macro avg       0.69      0.58      0.54       503\n",
      "weighted avg       0.68      0.65      0.58       503\n",
      "\n"
     ]
    }
   ],
   "source": [
    "pipe = Pipeline([('tfidf', TfidfVectorizer()), ('clf', LogisticRegression())])\n",
    "pipe.fit(X_train, y_train)\n",
    "y_pred = pipe.predict(X_test)\n",
    "print(classification_report(y_pred=y_pred, y_true=y_test))"
   ]
  },
  {
   "cell_type": "code",
   "execution_count": 40,
   "id": "58958d3c",
   "metadata": {},
   "outputs": [
    {
     "data": {
      "text/plain": [
       "CONSERVATIVE    1013\n",
       "LIBERAL          661\n",
       "Name: ideology, dtype: int64"
      ]
     },
     "execution_count": 40,
     "metadata": {},
     "output_type": "execute_result"
    }
   ],
   "source": [
    "df.ideology.value_counts()"
   ]
  },
  {
   "cell_type": "code",
   "execution_count": null,
   "id": "684a3eb1",
   "metadata": {},
   "outputs": [],
   "source": []
  }
 ],
 "metadata": {
  "kernelspec": {
   "display_name": "Python 3.10.3 ('venv': venv)",
   "language": "python",
   "name": "python3"
  },
  "language_info": {
   "codemirror_mode": {
    "name": "ipython",
    "version": 3
   },
   "file_extension": ".py",
   "mimetype": "text/x-python",
   "name": "python",
   "nbconvert_exporter": "python",
   "pygments_lexer": "ipython3",
   "version": "3.10.3"
  },
  "vscode": {
   "interpreter": {
    "hash": "3a46b8324fce30e89a6972973e71617124eecb210cb8bdebdd757243788ee3f7"
   }
  }
 },
 "nbformat": 4,
 "nbformat_minor": 5
}
